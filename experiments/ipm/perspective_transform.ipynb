{
 "cells": [
  {
   "cell_type": "code",
   "execution_count": 1,
   "metadata": {},
   "outputs": [],
   "source": [
    "import numpy as np\n",
    "import cv2\n",
    "from matplotlib import pyplot as plt\n",
    "\n",
    "from nuscenes import NuScenes"
   ]
  },
  {
   "cell_type": "code",
   "execution_count": 2,
   "metadata": {},
   "outputs": [],
   "source": [
    "nusc = NuScenes(\n",
    "    version=\"v1.0-mini\", \n",
    "    dataroot=\"../../nuscenes/\",\n",
    "    verbose=False,\n",
    ")\n"
   ]
  },
  {
   "cell_type": "code",
   "execution_count": 3,
   "metadata": {},
   "outputs": [
    {
     "data": {
      "text/plain": [
       "{'token': 'cc8c0bf57f984915a77078b10eb33198',\n",
       " 'log_token': '7e25a2c8ea1f41c5b0da1e69ecfa71a2',\n",
       " 'nbr_samples': 39,\n",
       " 'first_sample_token': 'ca9a282c9e77460f8360f564131a8af5',\n",
       " 'last_sample_token': 'ed5fc18c31904f96a8f0dbb99ff069c0',\n",
       " 'name': 'scene-0061',\n",
       " 'description': 'Parked truck, construction, intersection, turn left, following a van'}"
      ]
     },
     "execution_count": 3,
     "metadata": {},
     "output_type": "execute_result"
    }
   ],
   "source": [
    "scene = nusc.scene[0]\n",
    "scene"
   ]
  },
  {
   "cell_type": "code",
   "execution_count": 4,
   "metadata": {},
   "outputs": [
    {
     "data": {
      "text/plain": [
       "{'RADAR_FRONT': '37091c75b9704e0daa829ba56dfa0906',\n",
       " 'RADAR_FRONT_LEFT': '11946c1461d14016a322916157da3c7d',\n",
       " 'RADAR_FRONT_RIGHT': '491209956ee3435a9ec173dad3aaf58b',\n",
       " 'RADAR_BACK_LEFT': '312aa38d0e3e4f01b3124c523e6f9776',\n",
       " 'RADAR_BACK_RIGHT': '07b30d5eb6104e79be58eadf94382bc1',\n",
       " 'LIDAR_TOP': '9d9bf11fb0e144c8b446d54a8a00184f',\n",
       " 'CAM_FRONT': 'e3d495d4ac534d54b321f50006683844',\n",
       " 'CAM_FRONT_RIGHT': 'aac7867ebf4f446395d29fbd60b63b3b',\n",
       " 'CAM_BACK_RIGHT': '79dbb4460a6b40f49f9c150cb118247e',\n",
       " 'CAM_BACK': '03bea5763f0f4722933508d5999c5fd8',\n",
       " 'CAM_BACK_LEFT': '43893a033f9c46d4a51b5e08a67a1eb7',\n",
       " 'CAM_FRONT_LEFT': 'fe5422747a7d4268a4b07fc396707b23'}"
      ]
     },
     "execution_count": 4,
     "metadata": {},
     "output_type": "execute_result"
    }
   ],
   "source": [
    "sample = nusc.get(\"sample\", scene[\"first_sample_token\"])\n",
    "sample[\"data\"]"
   ]
  },
  {
   "cell_type": "code",
   "execution_count": 42,
   "metadata": {},
   "outputs": [
    {
     "data": {
      "text/plain": [
       "{'token': '43893a033f9c46d4a51b5e08a67a1eb7',\n",
       " 'sample_token': 'ca9a282c9e77460f8360f564131a8af5',\n",
       " 'ego_pose_token': '43893a033f9c46d4a51b5e08a67a1eb7',\n",
       " 'calibrated_sensor_token': '3bc29be787ea4fc79144c4a46a3c91ca',\n",
       " 'timestamp': 1532402927647423,\n",
       " 'fileformat': 'jpg',\n",
       " 'is_key_frame': True,\n",
       " 'height': 900,\n",
       " 'width': 1600,\n",
       " 'filename': 'samples/CAM_BACK_LEFT/n015-2018-07-24-11-22-45+0800__CAM_BACK_LEFT__1532402927647423.jpg',\n",
       " 'prev': '',\n",
       " 'next': '63d992b6e037456c8062211c4d78bd22',\n",
       " 'sensor_modality': 'camera',\n",
       " 'channel': 'CAM_BACK_LEFT'}"
      ]
     },
     "execution_count": 42,
     "metadata": {},
     "output_type": "execute_result"
    }
   ],
   "source": [
    "sample_data = nusc.get(\"sample_data\", sample[\"data\"][\"CAM_BACK_LEFT\"])\n",
    "sample_data"
   ]
  },
  {
   "cell_type": "code",
   "execution_count": 43,
   "metadata": {},
   "outputs": [
    {
     "data": {
      "text/plain": [
       "{'token': '3bc29be787ea4fc79144c4a46a3c91ca',\n",
       " 'sensor_token': 'a89643a5de885c6486df2232dc954da2',\n",
       " 'translation': [1.03569100218, 0.484795032713, 1.59097014818],\n",
       " 'rotation': [0.6924185592174665,\n",
       "  -0.7031619420114925,\n",
       "  -0.11648342771943819,\n",
       "  0.11203317912370753],\n",
       " 'camera_intrinsic': [[1256.7414812095406, 0.0, 792.1125740759628],\n",
       "  [0.0, 1256.7414812095406, 492.7757465151356],\n",
       "  [0.0, 0.0, 1.0]]}"
      ]
     },
     "execution_count": 43,
     "metadata": {},
     "output_type": "execute_result"
    }
   ],
   "source": [
    "calib_data = nusc.get(\"calibrated_sensor\",sample_data[\"calibrated_sensor_token\"])\n",
    "calib_data"
   ]
  },
  {
   "cell_type": "code",
   "execution_count": 44,
   "metadata": {},
   "outputs": [
    {
     "name": "stdout",
     "output_type": "stream",
     "text": [
      "1256.7414812095406 1256.7414812095406 792.1125740759628 492.7757465151356\n"
     ]
    }
   ],
   "source": [
    "cam_intrinsic = np.array(calib_data['camera_intrinsic'])\n",
    "\n",
    "fx = cam_intrinsic[0][0]\n",
    "fy = cam_intrinsic[1][1]\n",
    "cx = cam_intrinsic[0][2]\n",
    "cy = cam_intrinsic[1][2]\n",
    "\n",
    "print(fx, fy, cx, cy)"
   ]
  },
  {
   "cell_type": "code",
   "execution_count": 45,
   "metadata": {},
   "outputs": [],
   "source": [
    "from pyquaternion import Quaternion\n",
    "rotation = Quaternion(calib_data[\"rotation\"])"
   ]
  },
  {
   "cell_type": "code",
   "execution_count": 46,
   "metadata": {},
   "outputs": [
    {
     "name": "stdout",
     "output_type": "stream",
     "text": [
      "(4, 4)\n"
     ]
    },
    {
     "data": {
      "text/plain": [
       "array([[ 0.94776036,  0.31896113,  0.00375564, -1.14219275],\n",
       "       [ 0.00866572, -0.0139763 , -0.99986478,  1.58855564],\n",
       "       [-0.31886551,  0.94766474, -0.01601021, -0.10370525],\n",
       "       [ 0.        ,  0.        ,  0.        ,  1.        ]])"
      ]
     },
     "execution_count": 46,
     "metadata": {},
     "output_type": "execute_result"
    }
   ],
   "source": [
    "from nuscenes.utils.geometry_utils import transform_matrix\n",
    "\n",
    "transformation_matrix = transform_matrix(\n",
    "    calib_data[\"translation\"], \n",
    "    rotation,\n",
    "    inverse=True,\n",
    ")\n",
    "print(transformation_matrix.shape)\n",
    "transformation_matrix"
   ]
  },
  {
   "cell_type": "code",
   "execution_count": 47,
   "metadata": {},
   "outputs": [
    {
     "data": {
      "text/plain": [
       "array([[2.62509877e+06],\n",
       "       [3.82967935e+05],\n",
       "       [7.90134371e+02]])"
      ]
     },
     "execution_count": 47,
     "metadata": {},
     "output_type": "execute_result"
    }
   ],
   "source": [
    "world_coord = np.array([1*fx,1*fy,0,1]).reshape(-1,1)\n",
    "cam_intrinsic @ transformation_matrix[:3,:] @ world_coord"
   ]
  },
  {
   "cell_type": "code",
   "execution_count": 48,
   "metadata": {},
   "outputs": [],
   "source": [
    "# function from label generation utils\n",
    "\n",
    "def get_visible_mask(instrinsics, image_width, extents, resolution):\n",
    "    # Get calibration parameters\n",
    "    fu, cu = instrinsics[0, 0], instrinsics[0, 2]\n",
    "\n",
    "    # Construct a grid of image coordinates\n",
    "    x1, z1, x2, z2 = extents\n",
    "    x, z = np.arange(x1, x2, resolution), np.arange(z1, z2, resolution)\n",
    "    ucoords = x / z[:, None] * fu + cu\n",
    "\n",
    "    # Return all points which lie within the camera bounds\n",
    "    return (ucoords >= 0) & (ucoords < image_width)"
   ]
  },
  {
   "cell_type": "code",
   "execution_count": 49,
   "metadata": {},
   "outputs": [
    {
     "data": {
      "text/plain": [
       "<matplotlib.image.AxesImage at 0x1e0e4bebe50>"
      ]
     },
     "execution_count": 49,
     "metadata": {},
     "output_type": "execute_result"
    },
    {
     "data": {
      "image/png": "[encoded data removed]",
      "text/plain": [
       "<Figure size 640x480 with 1 Axes>"
      ]
     },
     "metadata": {},
     "output_type": "display_data"
    }
   ],
   "source": [
    "mask = get_visible_mask(\n",
    "    cam_intrinsic,\n",
    "    sample_data[\"width\"],\n",
    "    extents=[-25.0, 1.0, 25.0, 50.0],\n",
    "    resolution=0.25,\n",
    ")\n",
    "plt.imshow(mask, cmap=\"gray\")"
   ]
  },
  {
   "cell_type": "code",
   "execution_count": null,
   "metadata": {},
   "outputs": [],
   "source": []
  }
 ],
 "metadata": {
  "kernelspec": {
   "display_name": "seniorproject",
   "language": "python",
   "name": "python3"
  },
  "language_info": {
   "codemirror_mode": {
    "name": "ipython",
    "version": 3
   },
   "file_extension": ".py",
   "mimetype": "text/x-python",
   "name": "python",
   "nbconvert_exporter": "python",
   "pygments_lexer": "ipython3",
   "version": "3.10.9"
  },
  "orig_nbformat": 4
 },
 "nbformat": 4,
 "nbformat_minor": 2
}
