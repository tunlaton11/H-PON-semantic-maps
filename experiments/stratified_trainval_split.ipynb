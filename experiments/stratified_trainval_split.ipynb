{
 "cells": [
  {
   "cell_type": "code",
   "execution_count": 2,
   "metadata": {},
   "outputs": [
    {
     "name": "stdout",
     "output_type": "stream",
     "text": [
      "/home/student/bev-project\n"
     ]
    }
   ],
   "source": [
    "# Run this code block just once after the kernel starts\n",
    "# to change current directory to root\n",
    "\n",
    "import sys\n",
    "import os\n",
    "\n",
    "sys.path.append(\"..\")\n",
    "os.chdir(\"..\")\n",
    "print(os.getcwd())"
   ]
  },
  {
   "cell_type": "code",
   "execution_count": 3,
   "metadata": {},
   "outputs": [],
   "source": [
    "from nuscenes import NuScenes\n",
    "import nuscenes_utilities as nusc_utils"
   ]
  },
  {
   "cell_type": "code",
   "execution_count": 4,
   "metadata": {},
   "outputs": [
    {
     "name": "stdout",
     "output_type": "stream",
     "text": [
      "======\n",
      "Loading NuScenes tables for version v1.0-mini...\n",
      "23 category,\n",
      "8 attribute,\n",
      "4 visibility,\n",
      "911 instance,\n",
      "12 sensor,\n",
      "120 calibrated_sensor,\n",
      "31206 ego_pose,\n",
      "8 log,\n",
      "10 scene,\n",
      "404 sample,\n",
      "31206 sample_data,\n",
      "18538 sample_annotation,\n",
      "4 map,\n",
      "Done loading in 0.369 seconds.\n",
      "======\n",
      "Reverse indexing ...\n",
      "Done reverse indexing in 0.1 seconds.\n",
      "======\n"
     ]
    }
   ],
   "source": [
    "nuscenes = NuScenes(\n",
    "    version=\"v1.0-mini\",\n",
    "    dataroot=\"nuscenes\",\n",
    "    verbose=True,\n",
    ")"
   ]
  },
  {
   "cell_type": "code",
   "execution_count": 5,
   "metadata": {},
   "outputs": [],
   "source": [
    "tokens = list()\n",
    "scene_labels = list()\n",
    "camera_labels = list()\n",
    "\n",
    "for scene in nuscenes.scene:\n",
    "    \n",
    "    # Iterate over samples\n",
    "    for sample in nusc_utils.iterate_samples(\n",
    "        nuscenes, scene[\"first_sample_token\"]\n",
    "    ):\n",
    "        # Iterate over cameras\n",
    "        for camera in nusc_utils.CAMERA_NAMES:\n",
    "            tokens.append(sample[\"data\"][camera])\n",
    "            scene_labels.append(scene[\"name\"])\n",
    "            camera_labels.append(camera)"
   ]
  },
  {
   "cell_type": "code",
   "execution_count": 6,
   "metadata": {},
   "outputs": [],
   "source": [
    "import pandas as pd"
   ]
  },
  {
   "cell_type": "code",
   "execution_count": 23,
   "metadata": {},
   "outputs": [],
   "source": [
    "data = pd.DataFrame(dict(token=tokens, scene_name=scene_labels, camera=camera_labels))"
   ]
  },
  {
   "cell_type": "code",
   "execution_count": 24,
   "metadata": {},
   "outputs": [
    {
     "data": {
      "text/plain": [
       "0             scene-0061=CAM_FRONT\n",
       "1        scene-0061=CAM_FRONT_LEFT\n",
       "2       scene-0061=CAM_FRONT_RIGHT\n",
       "3         scene-0061=CAM_BACK_LEFT\n",
       "4        scene-0061=CAM_BACK_RIGHT\n",
       "                   ...            \n",
       "2419     scene-1100=CAM_FRONT_LEFT\n",
       "2420    scene-1100=CAM_FRONT_RIGHT\n",
       "2421      scene-1100=CAM_BACK_LEFT\n",
       "2422     scene-1100=CAM_BACK_RIGHT\n",
       "2423           scene-1100=CAM_BACK\n",
       "Length: 2424, dtype: object"
      ]
     },
     "execution_count": 24,
     "metadata": {},
     "output_type": "execute_result"
    }
   ],
   "source": [
    "data[\"scene_name\"] + \"=\" + data[\"camera\"]"
   ]
  },
  {
   "cell_type": "code",
   "execution_count": 25,
   "metadata": {},
   "outputs": [],
   "source": [
    "data[\"labels\"] = data[\"scene_name\"] + \"=\" + data[\"camera\"]"
   ]
  },
  {
   "cell_type": "code",
   "execution_count": 26,
   "metadata": {},
   "outputs": [
    {
     "data": {
      "text/html": [
       "<div>\n",
       "<style scoped>\n",
       "    .dataframe tbody tr th:only-of-type {\n",
       "        vertical-align: middle;\n",
       "    }\n",
       "\n",
       "    .dataframe tbody tr th {\n",
       "        vertical-align: top;\n",
       "    }\n",
       "\n",
       "    .dataframe thead th {\n",
       "        text-align: right;\n",
       "    }\n",
       "</style>\n",
       "<table border=\"1\" class=\"dataframe\">\n",
       "  <thead>\n",
       "    <tr style=\"text-align: right;\">\n",
       "      <th></th>\n",
       "      <th>token</th>\n",
       "      <th>scene_name</th>\n",
       "      <th>camera</th>\n",
       "      <th>labels</th>\n",
       "    </tr>\n",
       "  </thead>\n",
       "  <tbody>\n",
       "    <tr>\n",
       "      <th>0</th>\n",
       "      <td>e3d495d4ac534d54b321f50006683844</td>\n",
       "      <td>scene-0061</td>\n",
       "      <td>CAM_FRONT</td>\n",
       "      <td>scene-0061=CAM_FRONT</td>\n",
       "    </tr>\n",
       "    <tr>\n",
       "      <th>1</th>\n",
       "      <td>fe5422747a7d4268a4b07fc396707b23</td>\n",
       "      <td>scene-0061</td>\n",
       "      <td>CAM_FRONT_LEFT</td>\n",
       "      <td>scene-0061=CAM_FRONT_LEFT</td>\n",
       "    </tr>\n",
       "    <tr>\n",
       "      <th>2</th>\n",
       "      <td>aac7867ebf4f446395d29fbd60b63b3b</td>\n",
       "      <td>scene-0061</td>\n",
       "      <td>CAM_FRONT_RIGHT</td>\n",
       "      <td>scene-0061=CAM_FRONT_RIGHT</td>\n",
       "    </tr>\n",
       "    <tr>\n",
       "      <th>3</th>\n",
       "      <td>43893a033f9c46d4a51b5e08a67a1eb7</td>\n",
       "      <td>scene-0061</td>\n",
       "      <td>CAM_BACK_LEFT</td>\n",
       "      <td>scene-0061=CAM_BACK_LEFT</td>\n",
       "    </tr>\n",
       "    <tr>\n",
       "      <th>4</th>\n",
       "      <td>79dbb4460a6b40f49f9c150cb118247e</td>\n",
       "      <td>scene-0061</td>\n",
       "      <td>CAM_BACK_RIGHT</td>\n",
       "      <td>scene-0061=CAM_BACK_RIGHT</td>\n",
       "    </tr>\n",
       "    <tr>\n",
       "      <th>...</th>\n",
       "      <td>...</td>\n",
       "      <td>...</td>\n",
       "      <td>...</td>\n",
       "      <td>...</td>\n",
       "    </tr>\n",
       "    <tr>\n",
       "      <th>2419</th>\n",
       "      <td>8a87b74c6f8c46d49b73e96dd6d5f263</td>\n",
       "      <td>scene-1100</td>\n",
       "      <td>CAM_FRONT_LEFT</td>\n",
       "      <td>scene-1100=CAM_FRONT_LEFT</td>\n",
       "    </tr>\n",
       "    <tr>\n",
       "      <th>2420</th>\n",
       "      <td>62f2f587354b4f0fa8954447394a0df4</td>\n",
       "      <td>scene-1100</td>\n",
       "      <td>CAM_FRONT_RIGHT</td>\n",
       "      <td>scene-1100=CAM_FRONT_RIGHT</td>\n",
       "    </tr>\n",
       "    <tr>\n",
       "      <th>2421</th>\n",
       "      <td>8fdaff77e2de4d8ba21392e9b7d840ef</td>\n",
       "      <td>scene-1100</td>\n",
       "      <td>CAM_BACK_LEFT</td>\n",
       "      <td>scene-1100=CAM_BACK_LEFT</td>\n",
       "    </tr>\n",
       "    <tr>\n",
       "      <th>2422</th>\n",
       "      <td>f253e8760cb0441fbeade8f4e0ba7b11</td>\n",
       "      <td>scene-1100</td>\n",
       "      <td>CAM_BACK_RIGHT</td>\n",
       "      <td>scene-1100=CAM_BACK_RIGHT</td>\n",
       "    </tr>\n",
       "    <tr>\n",
       "      <th>2423</th>\n",
       "      <td>ae1cee7e46fe414bb25519d6ae31c8af</td>\n",
       "      <td>scene-1100</td>\n",
       "      <td>CAM_BACK</td>\n",
       "      <td>scene-1100=CAM_BACK</td>\n",
       "    </tr>\n",
       "  </tbody>\n",
       "</table>\n",
       "<p>2424 rows × 4 columns</p>\n",
       "</div>"
      ],
      "text/plain": [
       "                                 token  scene_name           camera  \\\n",
       "0     e3d495d4ac534d54b321f50006683844  scene-0061        CAM_FRONT   \n",
       "1     fe5422747a7d4268a4b07fc396707b23  scene-0061   CAM_FRONT_LEFT   \n",
       "2     aac7867ebf4f446395d29fbd60b63b3b  scene-0061  CAM_FRONT_RIGHT   \n",
       "3     43893a033f9c46d4a51b5e08a67a1eb7  scene-0061    CAM_BACK_LEFT   \n",
       "4     79dbb4460a6b40f49f9c150cb118247e  scene-0061   CAM_BACK_RIGHT   \n",
       "...                                ...         ...              ...   \n",
       "2419  8a87b74c6f8c46d49b73e96dd6d5f263  scene-1100   CAM_FRONT_LEFT   \n",
       "2420  62f2f587354b4f0fa8954447394a0df4  scene-1100  CAM_FRONT_RIGHT   \n",
       "2421  8fdaff77e2de4d8ba21392e9b7d840ef  scene-1100    CAM_BACK_LEFT   \n",
       "2422  f253e8760cb0441fbeade8f4e0ba7b11  scene-1100   CAM_BACK_RIGHT   \n",
       "2423  ae1cee7e46fe414bb25519d6ae31c8af  scene-1100         CAM_BACK   \n",
       "\n",
       "                          labels  \n",
       "0           scene-0061=CAM_FRONT  \n",
       "1      scene-0061=CAM_FRONT_LEFT  \n",
       "2     scene-0061=CAM_FRONT_RIGHT  \n",
       "3       scene-0061=CAM_BACK_LEFT  \n",
       "4      scene-0061=CAM_BACK_RIGHT  \n",
       "...                          ...  \n",
       "2419   scene-1100=CAM_FRONT_LEFT  \n",
       "2420  scene-1100=CAM_FRONT_RIGHT  \n",
       "2421    scene-1100=CAM_BACK_LEFT  \n",
       "2422   scene-1100=CAM_BACK_RIGHT  \n",
       "2423         scene-1100=CAM_BACK  \n",
       "\n",
       "[2424 rows x 4 columns]"
      ]
     },
     "execution_count": 26,
     "metadata": {},
     "output_type": "execute_result"
    }
   ],
   "source": [
    "data"
   ]
  },
  {
   "cell_type": "code",
   "execution_count": 10,
   "metadata": {},
   "outputs": [
    {
     "data": {
      "text/html": [
       "<div>\n",
       "<style scoped>\n",
       "    .dataframe tbody tr th:only-of-type {\n",
       "        vertical-align: middle;\n",
       "    }\n",
       "\n",
       "    .dataframe tbody tr th {\n",
       "        vertical-align: top;\n",
       "    }\n",
       "\n",
       "    .dataframe thead th {\n",
       "        text-align: right;\n",
       "    }\n",
       "</style>\n",
       "<table border=\"1\" class=\"dataframe\">\n",
       "  <thead>\n",
       "    <tr style=\"text-align: right;\">\n",
       "      <th></th>\n",
       "      <th>token</th>\n",
       "      <th>scene_name</th>\n",
       "      <th>camera</th>\n",
       "    </tr>\n",
       "  </thead>\n",
       "  <tbody>\n",
       "    <tr>\n",
       "      <th>0</th>\n",
       "      <td>e3d495d4ac534d54b321f50006683844</td>\n",
       "      <td>scene-0061</td>\n",
       "      <td>CAM_FRONT</td>\n",
       "    </tr>\n",
       "    <tr>\n",
       "      <th>6</th>\n",
       "      <td>4b6870ae200c4b969b91c50a9737f712</td>\n",
       "      <td>scene-0061</td>\n",
       "      <td>CAM_FRONT</td>\n",
       "    </tr>\n",
       "    <tr>\n",
       "      <th>12</th>\n",
       "      <td>d0d9ef23e3934ea09d55afdc24db9827</td>\n",
       "      <td>scene-0061</td>\n",
       "      <td>CAM_FRONT</td>\n",
       "    </tr>\n",
       "    <tr>\n",
       "      <th>18</th>\n",
       "      <td>74e7a9260c5d45b78b831528b62daf41</td>\n",
       "      <td>scene-0061</td>\n",
       "      <td>CAM_FRONT</td>\n",
       "    </tr>\n",
       "    <tr>\n",
       "      <th>24</th>\n",
       "      <td>21ca7cbfbde14f088143cf001570d01b</td>\n",
       "      <td>scene-0061</td>\n",
       "      <td>CAM_FRONT</td>\n",
       "    </tr>\n",
       "    <tr>\n",
       "      <th>...</th>\n",
       "      <td>...</td>\n",
       "      <td>...</td>\n",
       "      <td>...</td>\n",
       "    </tr>\n",
       "    <tr>\n",
       "      <th>2394</th>\n",
       "      <td>ccf3c969a3c74cd1b34ab6b1045ad0ab</td>\n",
       "      <td>scene-1100</td>\n",
       "      <td>CAM_FRONT</td>\n",
       "    </tr>\n",
       "    <tr>\n",
       "      <th>2400</th>\n",
       "      <td>d05e9e109cd7431eb173763f0d2b2727</td>\n",
       "      <td>scene-1100</td>\n",
       "      <td>CAM_FRONT</td>\n",
       "    </tr>\n",
       "    <tr>\n",
       "      <th>2406</th>\n",
       "      <td>02525bc381f14e45936356c339a23922</td>\n",
       "      <td>scene-1100</td>\n",
       "      <td>CAM_FRONT</td>\n",
       "    </tr>\n",
       "    <tr>\n",
       "      <th>2412</th>\n",
       "      <td>c76cfc72a390467b8a12f87df95f394b</td>\n",
       "      <td>scene-1100</td>\n",
       "      <td>CAM_FRONT</td>\n",
       "    </tr>\n",
       "    <tr>\n",
       "      <th>2418</th>\n",
       "      <td>445dcd95cebc4c21b3e6a929fd2297bc</td>\n",
       "      <td>scene-1100</td>\n",
       "      <td>CAM_FRONT</td>\n",
       "    </tr>\n",
       "  </tbody>\n",
       "</table>\n",
       "<p>404 rows × 3 columns</p>\n",
       "</div>"
      ],
      "text/plain": [
       "                                 token  scene_name     camera\n",
       "0     e3d495d4ac534d54b321f50006683844  scene-0061  CAM_FRONT\n",
       "6     4b6870ae200c4b969b91c50a9737f712  scene-0061  CAM_FRONT\n",
       "12    d0d9ef23e3934ea09d55afdc24db9827  scene-0061  CAM_FRONT\n",
       "18    74e7a9260c5d45b78b831528b62daf41  scene-0061  CAM_FRONT\n",
       "24    21ca7cbfbde14f088143cf001570d01b  scene-0061  CAM_FRONT\n",
       "...                                ...         ...        ...\n",
       "2394  ccf3c969a3c74cd1b34ab6b1045ad0ab  scene-1100  CAM_FRONT\n",
       "2400  d05e9e109cd7431eb173763f0d2b2727  scene-1100  CAM_FRONT\n",
       "2406  02525bc381f14e45936356c339a23922  scene-1100  CAM_FRONT\n",
       "2412  c76cfc72a390467b8a12f87df95f394b  scene-1100  CAM_FRONT\n",
       "2418  445dcd95cebc4c21b3e6a929fd2297bc  scene-1100  CAM_FRONT\n",
       "\n",
       "[404 rows x 3 columns]"
      ]
     },
     "execution_count": 10,
     "metadata": {},
     "output_type": "execute_result"
    }
   ],
   "source": [
    "data_cam_front = data[data[\"camera\"]==\"CAM_FRONT\"]\n",
    "data_cam_front"
   ]
  },
  {
   "cell_type": "code",
   "execution_count": 12,
   "metadata": {},
   "outputs": [],
   "source": [
    "from sklearn.model_selection import train_test_split"
   ]
  },
  {
   "cell_type": "code",
   "execution_count": 27,
   "metadata": {},
   "outputs": [],
   "source": [
    "(\n",
    "    train_tokens,\n",
    "    val_tokens,\n",
    "    train_scene_names,\n",
    "    val_scene_names,\n",
    "    train_camera_labels,\n",
    "    val_camera_labels,\n",
    ") = train_test_split(\n",
    "    data[\"token\"],\n",
    "    data[\"scene_name\"],\n",
    "    data[\"camera\"],\n",
    "    test_size=0.3,\n",
    "    stratify=data[\"labels\"],\n",
    ")"
   ]
  },
  {
   "cell_type": "code",
   "execution_count": 31,
   "metadata": {},
   "outputs": [
    {
     "data": {
      "text/plain": [
       "camera\n",
       "CAM_BACK           283\n",
       "CAM_BACK_RIGHT     283\n",
       "CAM_FRONT          283\n",
       "CAM_FRONT_LEFT     283\n",
       "CAM_FRONT_RIGHT    283\n",
       "CAM_BACK_LEFT      281\n",
       "Name: count, dtype: int64"
      ]
     },
     "execution_count": 31,
     "metadata": {},
     "output_type": "execute_result"
    }
   ],
   "source": [
    "train_camera_labels.value_counts()"
   ]
  },
  {
   "cell_type": "code",
   "execution_count": 36,
   "metadata": {},
   "outputs": [],
   "source": [
    "train_tokens.to_csv(\"configs/stratified_mini_allcam_train_tokens.csv\", header=False, index=False)\n",
    "val_tokens.to_csv(\"configs/stratified_mini_allcam_val_tokens.csv\", header=False, index=False)"
   ]
  },
  {
   "cell_type": "code",
   "execution_count": 37,
   "metadata": {},
   "outputs": [],
   "source": [
    "(\n",
    "    camfront_train_tokens,\n",
    "    camfront_val_tokens,\n",
    "    camfront_train_scene_names,\n",
    "    camfront_val_scene_names,\n",
    ") = train_test_split(\n",
    "    data_cam_front[\"token\"],\n",
    "    data_cam_front[\"scene_name\"],\n",
    "    test_size=0.3,\n",
    "    stratify=data_cam_front[\"scene_name\"],\n",
    ")"
   ]
  },
  {
   "cell_type": "code",
   "execution_count": 38,
   "metadata": {},
   "outputs": [
    {
     "data": {
      "text/plain": [
       "scene_name\n",
       "scene-0655    29\n",
       "scene-0553    29\n",
       "scene-1077    29\n",
       "scene-0757    28\n",
       "scene-0103    28\n",
       "scene-1100    28\n",
       "scene-0916    28\n",
       "scene-1094    28\n",
       "scene-0796    28\n",
       "scene-0061    27\n",
       "Name: count, dtype: int64"
      ]
     },
     "execution_count": 38,
     "metadata": {},
     "output_type": "execute_result"
    }
   ],
   "source": [
    "camfront_train_scene_names.value_counts()"
   ]
  },
  {
   "cell_type": "code",
   "execution_count": 39,
   "metadata": {},
   "outputs": [],
   "source": [
    "camfront_train_tokens.to_csv(\"configs/stratified_mini_frontcam_train_tokens.csv\", header=False, index=False)\n",
    "camfront_val_tokens.to_csv(\"configs/stratified_mini_frontcam_val_tokens.csv\", header=False, index=False)"
   ]
  },
  {
   "cell_type": "code",
   "execution_count": null,
   "metadata": {},
   "outputs": [],
   "source": []
  }
 ],
 "metadata": {
  "kernelspec": {
   "display_name": "senior_project",
   "language": "python",
   "name": "python3"
  },
  "language_info": {
   "codemirror_mode": {
    "name": "ipython",
    "version": 3
   },
   "file_extension": ".py",
   "mimetype": "text/x-python",
   "name": "python",
   "nbconvert_exporter": "python",
   "pygments_lexer": "ipython3",
   "version": "3.8.0"
  }
 },
 "nbformat": 4,
 "nbformat_minor": 2
}
