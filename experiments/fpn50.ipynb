{
 "cells": [
  {
   "cell_type": "code",
   "execution_count": 4,
   "metadata": {},
   "outputs": [
    {
     "name": "stdout",
     "output_type": "stream",
     "text": [
      "/home/tunlaton11/Desktop/image-to-maps-project\n"
     ]
    }
   ],
   "source": [
    "# Run this code block just once after the kernel starts\n",
    "# to change current directory to root\n",
    "\n",
    "import os\n",
    "\n",
    "os.chdir(\"..\")\n",
    "print(os.getcwd())"
   ]
  },
  {
   "cell_type": "code",
   "execution_count": 12,
   "metadata": {},
   "outputs": [],
   "source": [
    "from dataset import NuScenesDataset\n",
    "from models.fpn import FPN50\n",
    "\n",
    "import torch\n",
    "import torch.nn as nn\n",
    "import torch.optim as optim\n",
    "from torch.utils.data import DataLoader\n",
    "\n",
    "from tqdm import tqdm\n",
    "import re\n",
    "import platform\n",
    "\n",
    "from configs.config_utilities import load_config"
   ]
  },
  {
   "cell_type": "code",
   "execution_count": 13,
   "metadata": {},
   "outputs": [],
   "source": [
    "from configs.config_utilities import load_config\n",
    "\n",
    "config = load_config()"
   ]
  },
  {
   "cell_type": "code",
   "execution_count": 31,
   "metadata": {},
   "outputs": [
    {
     "name": "stdout",
     "output_type": "stream",
     "text": [
      "--------------------------------------------------\n",
      "Loading NuScenes version v1.0-mini ...\n",
      "--------------------------------------------------\n",
      "--------------------------------------------------\n",
      "Loading NuScenes version v1.0-mini ...\n",
      "--------------------------------------------------\n"
     ]
    }
   ],
   "source": [
    "sample_tokens = [\"e3d495d4ac534d54b321f50006683844\"]\n",
    "\n",
    "train_dataset = NuScenesDataset(\n",
    "    nuscenes_dir=config.nuscenes_dir,\n",
    "    nuscenes_version=config.nuscenes_version,\n",
    "    image_size=None,\n",
    "    label_dir=config.label_dir,\n",
    "    sample_tokens=sample_tokens\n",
    "    # scene_names=config.train_scenes,\n",
    "    # transform=train_transform,\n",
    ")\n",
    "\n",
    "train_loader = DataLoader(\n",
    "    train_dataset,\n",
    "    batch_size=config.batch_size,\n",
    "    num_workers=config.num_workers,\n",
    "    pin_memory=True,\n",
    "    shuffle=True,\n",
    ")\n",
    "\n",
    "validate_dataset = NuScenesDataset(\n",
    "    nuscenes_dir=config.nuscenes_dir,\n",
    "    nuscenes_version=config.nuscenes_version,\n",
    "    image_size=(200, 196),\n",
    "    label_dir=config.label_dir,\n",
    "    sample_tokens=sample_tokens\n",
    "    # scene_names=config.val_scenes,\n",
    ")\n",
    "validate_loader = DataLoader(\n",
    "    validate_dataset,\n",
    "    batch_size=config.batch_size,\n",
    "    num_workers=config.num_workers,\n",
    "    pin_memory=True,\n",
    "    shuffle=True,\n",
    ")"
   ]
  },
  {
   "cell_type": "code",
   "execution_count": 15,
   "metadata": {},
   "outputs": [],
   "source": [
    "this_device = platform.platform()\n",
    "if torch.cuda.is_available():\n",
    "    torch.cuda.empty_cache()\n",
    "    device = \"cuda\"\n",
    "elif re.search(\"arm64\", this_device):\n",
    "    # use Apple GPU\n",
    "    device = \"mps\"\n",
    "else:\n",
    "    device = \"cpu\""
   ]
  },
  {
   "cell_type": "code",
   "execution_count": 16,
   "metadata": {},
   "outputs": [],
   "source": [
    "network = FPN50().to(device)"
   ]
  },
  {
   "cell_type": "code",
   "execution_count": 32,
   "metadata": {},
   "outputs": [],
   "source": [
    "images, labels, masks = next(iter(train_loader))\n",
    "images = images.to(device)\n",
    "labels = labels.to(device)\n",
    "masks = masks.to(device)"
   ]
  },
  {
   "cell_type": "code",
   "execution_count": 34,
   "metadata": {},
   "outputs": [
    {
     "name": "stderr",
     "output_type": "stream",
     "text": [
      "/home/tunlaton11/miniconda3/envs/senior-project/lib/python3.7/site-packages/torch/nn/functional.py:3734: UserWarning: nn.functional.upsample is deprecated. Use nn.functional.interpolate instead.\n",
      "  warnings.warn(\"nn.functional.upsample is deprecated. Use nn.functional.interpolate instead.\")\n"
     ]
    }
   ],
   "source": [
    "outputs = network(images)"
   ]
  },
  {
   "cell_type": "code",
   "execution_count": 33,
   "metadata": {},
   "outputs": [
    {
     "name": "stdout",
     "output_type": "stream",
     "text": [
      "torch.Size([1, 3, 900, 1600])\n"
     ]
    }
   ],
   "source": [
    "print(images.shape)"
   ]
  },
  {
   "cell_type": "code",
   "execution_count": 35,
   "metadata": {},
   "outputs": [
    {
     "name": "stdout",
     "output_type": "stream",
     "text": [
      "torch.Size([1, 256, 113, 200])\n",
      "torch.Size([1, 256, 57, 100])\n",
      "torch.Size([1, 256, 29, 50])\n",
      "torch.Size([1, 256, 15, 25])\n",
      "torch.Size([1, 256, 8, 13])\n"
     ]
    }
   ],
   "source": [
    "for i in outputs:\n",
    "    print(i.shape)"
   ]
  }
 ],
 "metadata": {
  "kernelspec": {
   "display_name": "senior-project",
   "language": "python",
   "name": "python3"
  },
  "language_info": {
   "codemirror_mode": {
    "name": "ipython",
    "version": 3
   },
   "file_extension": ".py",
   "mimetype": "text/x-python",
   "name": "python",
   "nbconvert_exporter": "python",
   "pygments_lexer": "ipython3",
   "version": "3.7.2"
  },
  "orig_nbformat": 4
 },
 "nbformat": 4,
 "nbformat_minor": 2
}
