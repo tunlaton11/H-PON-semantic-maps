{
 "cells": [
  {
   "cell_type": "code",
   "execution_count": 1,
   "metadata": {},
   "outputs": [
    {
     "name": "stdout",
     "output_type": "stream",
     "text": [
      "/home/student/bev-project\n"
     ]
    }
   ],
   "source": [
    "# Run this code block just once after the kernel starts\n",
    "# to change current directory to root\n",
    "\n",
    "import sys\n",
    "import os\n",
    "\n",
    "sys.path.append(\"..\")\n",
    "os.chdir(\"..\")\n",
    "print(os.getcwd())"
   ]
  },
  {
   "cell_type": "code",
   "execution_count": 2,
   "metadata": {},
   "outputs": [],
   "source": [
    "from dataset import NuScenesDataset\n",
    "from torch.utils.data import DataLoader\n",
    "import matplotlib.pyplot as plt\n",
    "from nuscenes_utilities import NUSCENES_CLASS_NAMES"
   ]
  },
  {
   "cell_type": "code",
   "execution_count": 3,
   "metadata": {},
   "outputs": [],
   "source": [
    "from configs.config_utilities import load_config\n",
    "config = load_config(\"configs/configs.yml\")"
   ]
  },
  {
   "cell_type": "code",
   "execution_count": 4,
   "metadata": {},
   "outputs": [
    {
     "name": "stdout",
     "output_type": "stream",
     "text": [
      "['f1680ea9126e468ca407f7284efc980c', 'bf4b00d2af9344c3b3f444206f75cf14', '73fffafd944c4c42a32cfcaeeafc4944', '9d8d518a34ff462d8d6a8fb665d5edd4', 'd209059d97174d28a279f467e9cf89f0', '19f4244aa37b42a49a005b8ea6d53953', 'c33b84588ead4a609f195d2c4fb56801', '731b03604b4849f0aa646d0b46571451', 'f331f492972540ab8e843d484ac6919e', '834ce773cfa04be8b56d9614ed1dcf7f', '50e02dd80f9444a194abe8acae4bb211', 'd507acb08ec94f00b54bd650bb4b1c52', 'b4f9181a80034d22972433e4d1dd9f9e', 'b04ad7e3c86d47fc98dba25595b2327e', '76542abab799469cbfb7b293c83192aa', 'beea8d83b337481799c36c6561ec3de6', '6830e208ec3b444f878c8f5c11135dc6', 'deb67484315f4ba8b56ea8f03ef3d444', 'f059772e809443b787af4bb7c60c094a', '9b6ce88572b947b3b8e141c8bfe96f5b', '3cd43f6baa4e444999eef6cb1c89416a', 'e26810c28df44cefa069778865bd832c', '881817a81bab4d8488464ac42db89f5f', 'e30d5ecf0fd6418089112b4e4811737c', 'eeed80879b3d4580804a0da6bf9c84e2', 'b732ab7ce371484b93ba0c2d2b2f9ae7', 'fc4cba53bd2c4923b17da19b2e6e44fa', '7b6c123b090340358e642a70c6fda96d']\n",
      "['df1863e3fe614f288a9974d619343050', 'f921ab741862402aa867b4cd7ceb3d40', '9ce08dbf60bb4b22a952e11f56504292', '35480f511677406fa35386f153291792', '029dc949763249ddbeb3f756cb7b259f', 'f225d67c5e1e4f2e8f86fd9b7d2cb9e1', '5cfd339fb1cc4c84881d9bf2a48e1f46', '452cb8aa72de4124907764018407b8d8', '85640ff86e61419993ae9a3f9ac456eb', '5e862f5aad0444f199824efc78edfff0', '17b8884e21844ad9bf5df19a141a1156', 'b7b3ad2c218c4192ab958334ea15303f', '0a7aef80edbc4854bcd781a3becb943c']\n"
     ]
    }
   ],
   "source": [
    "print(config.train_tokens)\n",
    "print(config.val_tokens)"
   ]
  },
  {
   "cell_type": "code",
   "execution_count": 5,
   "metadata": {},
   "outputs": [
    {
     "name": "stdout",
     "output_type": "stream",
     "text": [
      "--------------------------------------------------\n",
      "Loading NuScenes version v1.0-mini ...\n",
      "--------------------------------------------------\n"
     ]
    }
   ],
   "source": [
    "dataset = NuScenesDataset(\n",
    "    nuscenes_dir=config.nuscenes_dir,\n",
    "    nuscenes_version=config.nuscenes_version,\n",
    "    label_dir=config.label_dir,\n",
    "    sample_tokens=config.train_tokens + config.val_tokens,\n",
    "    image_size=(200, 112),\n",
    "    flatten_labels=(config.method_type == \"multiclass\"),\n",
    ")\n",
    "dataset_loader = DataLoader(\n",
    "    dataset,\n",
    "    batch_size=10,\n",
    "    num_workers=2,\n",
    "    pin_memory=True,\n",
    "    shuffle=True,\n",
    ")"
   ]
  },
  {
   "cell_type": "code",
   "execution_count": 6,
   "metadata": {},
   "outputs": [
    {
     "name": "stdout",
     "output_type": "stream",
     "text": [
      "torch.Size([10, 14, 196, 200])\n",
      "torch.Size([10, 14, 196, 200])\n",
      "torch.Size([10, 14, 196, 200])\n",
      "torch.Size([10, 14, 196, 200])\n",
      "torch.Size([1, 14, 196, 200])\n"
     ]
    }
   ],
   "source": [
    "for images, labels, masks, calibs in dataset_loader:\n",
    "    print(labels.shape)"
   ]
  },
  {
   "cell_type": "code",
   "execution_count": 7,
   "metadata": {},
   "outputs": [
    {
     "data": {
      "text/plain": [
       "['drivable_area',\n",
       " 'ped_crossing',\n",
       " 'walkway',\n",
       " 'carpark',\n",
       " 'car',\n",
       " 'truck',\n",
       " 'bus',\n",
       " 'trailer',\n",
       " 'construction_vehicle',\n",
       " 'pedestrian',\n",
       " 'motorcycle',\n",
       " 'bicycle',\n",
       " 'traffic_cone',\n",
       " 'barrier']"
      ]
     },
     "execution_count": 7,
     "metadata": {},
     "output_type": "execute_result"
    }
   ],
   "source": [
    "NUSCENES_CLASS_NAMES"
   ]
  },
  {
   "cell_type": "code",
   "execution_count": 8,
   "metadata": {},
   "outputs": [
    {
     "name": "stdout",
     "output_type": "stream",
     "text": [
      "torch.Size([14, 1, 196, 200])\n",
      "torch.Size([14, 39200])\n",
      "torch.Size([14])\n",
      "tensor([15215,  3033,  3647,     0,   364,   419,     0,     0,     0,    18,\n",
      "            0,     0,     0,     0])\n"
     ]
    }
   ],
   "source": [
    "B, C, H, W = labels.shape\n",
    "print(labels.permute(1,0,2,3).shape)\n",
    "print(labels.permute(1,0,2,3).flatten(1, 3).shape)\n",
    "print(labels.permute(1,0,2,3).flatten(1, 3).sum(dim=1).shape)\n",
    "print(labels.permute(1,0,2,3).flatten(1, 3).sum(dim=1))"
   ]
  },
  {
   "cell_type": "code",
   "execution_count": 9,
   "metadata": {},
   "outputs": [
    {
     "name": "stdout",
     "output_type": "stream",
     "text": [
      "tensor([633525, 128399, 144515,    911,  21080,   9054,  15798,      0,   1152,\n",
      "           624,      0,    770,    114,      0])\n"
     ]
    }
   ],
   "source": [
    "pixel_counts = None\n",
    "for images, labels, masks, calibs in dataset_loader:\n",
    "    pixel_count = labels.permute(1,0,2,3).flatten(1, 3).sum(dim=1)\n",
    "    if pixel_counts is None:\n",
    "        pixel_counts = pixel_count\n",
    "    else:\n",
    "        pixel_counts = pixel_counts + pixel_count\n",
    "\n",
    "print(pixel_counts)"
   ]
  },
  {
   "cell_type": "code",
   "execution_count": 10,
   "metadata": {},
   "outputs": [
    {
     "data": {
      "text/plain": [
       "tensor([6.6272e-01, 1.3432e-01, 1.5118e-01, 9.5299e-04, 2.2052e-02, 9.4713e-03,\n",
       "        1.6526e-02, 0.0000e+00, 1.2051e-03, 6.5276e-04, 0.0000e+00, 8.0549e-04,\n",
       "        1.1925e-04, 0.0000e+00])"
      ]
     },
     "execution_count": 10,
     "metadata": {},
     "output_type": "execute_result"
    }
   ],
   "source": [
    "pixel_counts / pixel_counts.sum()"
   ]
  },
  {
   "cell_type": "code",
   "execution_count": 11,
   "metadata": {},
   "outputs": [
    {
     "name": "stdout",
     "output_type": "stream",
     "text": [
      "drivable_area : 0.6627232432365417\n",
      "ped_crossing : 0.13431672751903534\n",
      "walkway : 0.15117548406124115\n",
      "carpark : 0.0009529867093078792\n",
      "car : 0.022051546722650528\n",
      "truck : 0.009471286088228226\n",
      "bus : 0.016526106745004654\n",
      "trailer : 0.0\n",
      "construction_vehicle : 0.0012050940422341228\n",
      "pedestrian : 0.0006527592777274549\n",
      "motorcycle : 0.0\n",
      "bicycle : 0.0008054882055148482\n",
      "traffic_cone : 0.00011925409489776939\n",
      "barrier : 0.0\n"
     ]
    }
   ],
   "source": [
    "pixel_counts_percentage = pixel_counts / pixel_counts.sum()\n",
    "\n",
    "for classname, percetage in zip(NUSCENES_CLASS_NAMES ,pixel_counts_percentage):\n",
    "    print(f\"{classname} : {percetage}\")"
   ]
  },
  {
   "cell_type": "code",
   "execution_count": null,
   "metadata": {},
   "outputs": [],
   "source": []
  }
 ],
 "metadata": {
  "kernelspec": {
   "display_name": "Python 3 (ipykernel)",
   "language": "python",
   "name": "python3"
  },
  "language_info": {
   "codemirror_mode": {
    "name": "ipython",
    "version": 3
   },
   "file_extension": ".py",
   "mimetype": "text/x-python",
   "name": "python",
   "nbconvert_exporter": "python",
   "pygments_lexer": "ipython3",
   "version": "3.8.0"
  },
  "orig_nbformat": 4
 },
 "nbformat": 4,
 "nbformat_minor": 2
}
