{
 "cells": [
  {
   "cell_type": "code",
   "execution_count": 1,
   "metadata": {},
   "outputs": [
    {
     "name": "stdout",
     "output_type": "stream",
     "text": [
      "/home/student/bev-project\n"
     ]
    }
   ],
   "source": [
    "# Run this code block just once after the kernel starts\n",
    "# to change current directory to root\n",
    "\n",
    "import sys\n",
    "import os\n",
    "\n",
    "sys.path.append(\"..\")\n",
    "os.chdir(\"..\")\n",
    "print(os.getcwd())"
   ]
  },
  {
   "cell_type": "code",
   "execution_count": 2,
   "metadata": {},
   "outputs": [],
   "source": [
    "from criterion import OccupancyCriterion, prior_uncertainty_loss\n",
    "from nuscenes_utilities import NUSCENES_CLASS_NAMES\n",
    "from utilities import torch as torch_utils\n",
    "from configs.config_utilities import load_config\n",
    "\n",
    "import torch\n",
    "import torch.nn.functional as F\n",
    "from torch.utils.data import DataLoader\n",
    "from dataset import NuScenesDataset\n",
    "import numpy as np"
   ]
  },
  {
   "cell_type": "code",
   "execution_count": 3,
   "metadata": {},
   "outputs": [
    {
     "name": "stdout",
     "output_type": "stream",
     "text": [
      "cuda\n"
     ]
    }
   ],
   "source": [
    "device = torch_utils.detect_device()\n",
    "print(device)"
   ]
  },
  {
   "cell_type": "code",
   "execution_count": 4,
   "metadata": {},
   "outputs": [],
   "source": [
    "config = load_config(\"configs/configs.yml\")"
   ]
  },
  {
   "cell_type": "code",
   "execution_count": 5,
   "metadata": {},
   "outputs": [
    {
     "data": {
      "text/plain": [
       "True"
      ]
     },
     "execution_count": 5,
     "metadata": {},
     "output_type": "execute_result"
    }
   ],
   "source": [
    "torch.cuda.is_available()"
   ]
  },
  {
   "cell_type": "code",
   "execution_count": 6,
   "metadata": {},
   "outputs": [
    {
     "name": "stdout",
     "output_type": "stream",
     "text": [
      "tensor([[[[ 1.2336,  0.5960,  0.8254],\n",
      "          [ 1.2346,  0.3112, -1.0722],\n",
      "          [ 0.3542,  1.3964, -0.8993]],\n",
      "\n",
      "         [[-0.3451,  0.8739, -0.2343],\n",
      "          [ 0.9797, -1.3031,  0.2852],\n",
      "          [ 0.5566,  0.9894, -1.9713]]]])\n"
     ]
    }
   ],
   "source": [
    "logits = torch.randn((1,2,3,3))\n",
    "print(logits)"
   ]
  },
  {
   "cell_type": "code",
   "execution_count": 7,
   "metadata": {},
   "outputs": [
    {
     "name": "stdout",
     "output_type": "stream",
     "text": [
      "labels torch.Size([1, 2, 3, 3])\n",
      "masks torch.Size([1, 3, 3])\n"
     ]
    }
   ],
   "source": [
    "labels = torch.tensor(\n",
    "    [[[[ 0, 0, 0 ],\n",
    "       [ 0, 1, 0 ],\n",
    "       [ 0, 0, 0 ]],\n",
    "\n",
    "      [[ 0, 0, 0 ],\n",
    "       [ 0, 0, 0 ],\n",
    "       [ 1, 1, 1 ]]]])\n",
    "\n",
    "masks = torch.tensor(\n",
    "    [[[ 0, 1, 0 ],\n",
    "      [ 0, 1, 0 ],\n",
    "      [ 0, 1, 0 ]]])\n",
    "\n",
    "print(\"labels\", labels.shape)\n",
    "print(\"masks\", masks.shape)"
   ]
  },
  {
   "cell_type": "code",
   "execution_count": 8,
   "metadata": {},
   "outputs": [],
   "source": [
    "criterion = OccupancyCriterion(\n",
    "    config.prior,\n",
    "    config.xent_weight,\n",
    "    config.uncert_weight,\n",
    "    config.weight_mode,\n",
    ").to(device)"
   ]
  },
  {
   "cell_type": "code",
   "execution_count": 9,
   "metadata": {},
   "outputs": [
    {
     "name": "stdout",
     "output_type": "stream",
     "text": [
      "<class 'list'>\n",
      "[0.44679, 0.02407, 0.14491, 0.02994, 0.02086, 0.00477, 0.00156, 0.00189, 0.00084, 0.00119, 0.00019, 0.00012, 0.00031, 0.00176]\n"
     ]
    }
   ],
   "source": [
    "print(type(config.prior))\n",
    "print(config.prior)"
   ]
  },
  {
   "cell_type": "code",
   "execution_count": 10,
   "metadata": {},
   "outputs": [],
   "source": [
    "priors = torch.tensor([0.5, 0.1])\n",
    "class_weights = torch.sqrt(1 / priors)"
   ]
  },
  {
   "cell_type": "code",
   "execution_count": 11,
   "metadata": {},
   "outputs": [
    {
     "name": "stdout",
     "output_type": "stream",
     "text": [
      "tensor(-1.0819)\n"
     ]
    },
    {
     "name": "stderr",
     "output_type": "stream",
     "text": [
      "/home/student/miniconda3/envs/senior_project/lib/python3.8/site-packages/torch/nn/_reduction.py:42: UserWarning: size_average and reduce args will be deprecated, please use reduction='none' instead.\n",
      "  warnings.warn(warning.format(ret))\n"
     ]
    }
   ],
   "source": [
    "uncert_loss = prior_uncertainty_loss(logits, masks, priors)\n",
    "print(uncert_loss)"
   ]
  },
  {
   "cell_type": "code",
   "execution_count": 12,
   "metadata": {},
   "outputs": [
    {
     "name": "stdout",
     "output_type": "stream",
     "text": [
      "tensor([0.5000, 0.1000])\n",
      "tensor([[[[0.5000]],\n",
      "\n",
      "         [[0.1000]]]])\n",
      "tensor([[[[0.5000, 0.5000, 0.5000],\n",
      "          [0.5000, 0.5000, 0.5000],\n",
      "          [0.5000, 0.5000, 0.5000]],\n",
      "\n",
      "         [[0.1000, 0.1000, 0.1000],\n",
      "          [0.1000, 0.1000, 0.1000],\n",
      "          [0.1000, 0.1000, 0.1000]]]])\n"
     ]
    }
   ],
   "source": [
    "print(logits.new(priors))\n",
    "print(logits.new(priors).view(1,-1,1,1))\n",
    "print(logits.new(priors).view(1,-1,1,1).expand_as(logits))"
   ]
  },
  {
   "cell_type": "code",
   "execution_count": 13,
   "metadata": {},
   "outputs": [
    {
     "name": "stdout",
     "output_type": "stream",
     "text": [
      "torch.Size([1, 2, 3, 3])\n"
     ]
    }
   ],
   "source": [
    "priors_new = logits.new(priors).view(1, -1, 1, 1).expand_as(logits)\n",
    "print(priors_new.shape)"
   ]
  },
  {
   "cell_type": "code",
   "execution_count": 18,
   "metadata": {},
   "outputs": [
    {
     "name": "stdout",
     "output_type": "stream",
     "text": [
      "tensor([[[[0.7004, 0.7094, 0.7135],\n",
      "          [1.3011, 0.7127, 0.7483],\n",
      "          [0.6932, 1.2940, 1.0427]],\n",
      "\n",
      "         [[0.4390, 1.2511, 1.2207],\n",
      "          [0.3256, 0.3968, 0.5391],\n",
      "          [0.3291, 0.6454, 1.4162]]]])\n"
     ]
    },
    {
     "name": "stderr",
     "output_type": "stream",
     "text": [
      "/home/student/miniconda3/envs/senior_project/lib/python3.8/site-packages/torch/nn/_reduction.py:42: UserWarning: size_average and reduce args will be deprecated, please use reduction='none' instead.\n",
      "  warnings.warn(warning.format(ret))\n"
     ]
    }
   ],
   "source": [
    "xent = F.binary_cross_entropy_with_logits(logits, priors_new, reduce=False)\n",
    "print(xent)"
   ]
  },
  {
   "cell_type": "code",
   "execution_count": 24,
   "metadata": {},
   "outputs": [
    {
     "data": {
      "text/plain": [
       "tensor([[[0, 1, 0],\n",
       "         [0, 1, 0],\n",
       "         [0, 1, 0]]])"
      ]
     },
     "execution_count": 24,
     "metadata": {},
     "output_type": "execute_result"
    }
   ],
   "source": [
    "masks"
   ]
  },
  {
   "cell_type": "code",
   "execution_count": 23,
   "metadata": {},
   "outputs": [
    {
     "data": {
      "text/plain": [
       "tensor([[[ True, False,  True],\n",
       "         [ True, False,  True],\n",
       "         [ True, False,  True]]])"
      ]
     },
     "execution_count": 23,
     "metadata": {},
     "output_type": "execute_result"
    }
   ],
   "source": [
    "masks.logical_not()"
   ]
  },
  {
   "cell_type": "code",
   "execution_count": 29,
   "metadata": {},
   "outputs": [
    {
     "data": {
      "text/plain": [
       "tensor([[[1., 0., 1.],\n",
       "         [1., 0., 1.],\n",
       "         [1., 0., 1.]]])"
      ]
     },
     "execution_count": 29,
     "metadata": {},
     "output_type": "execute_result"
    }
   ],
   "source": [
    "masks.logical_not().float()"
   ]
  },
  {
   "cell_type": "code",
   "execution_count": 28,
   "metadata": {},
   "outputs": [
    {
     "data": {
      "text/plain": [
       "torch.Size([1, 1, 3, 3])"
      ]
     },
     "execution_count": 28,
     "metadata": {},
     "output_type": "execute_result"
    }
   ],
   "source": [
    "masks.logical_not().float()"
   ]
  },
  {
   "cell_type": "code",
   "execution_count": 30,
   "metadata": {},
   "outputs": [
    {
     "data": {
      "text/plain": [
       "tensor(0.5260)"
      ]
     },
     "execution_count": 30,
     "metadata": {},
     "output_type": "execute_result"
    }
   ],
   "source": [
    "(xent * masks.logical_not().float().unsqueeze(1)).mean()"
   ]
  },
  {
   "cell_type": "code",
   "execution_count": 31,
   "metadata": {},
   "outputs": [
    {
     "data": {
      "text/plain": [
       "tensor([[[-1, -2, -1],\n",
       "         [-1, -2, -1],\n",
       "         [-1, -2, -1]]])"
      ]
     },
     "execution_count": 31,
     "metadata": {},
     "output_type": "execute_result"
    }
   ],
   "source": [
    "~masks"
   ]
  },
  {
   "cell_type": "code",
   "execution_count": null,
   "metadata": {},
   "outputs": [],
   "source": []
  },
  {
   "cell_type": "code",
   "execution_count": 16,
   "metadata": {},
   "outputs": [
    {
     "name": "stdout",
     "output_type": "stream",
     "text": [
      "--------------------------------------------------\n",
      "Loading NuScenes version v1.0-mini ...\n",
      "--------------------------------------------------\n"
     ]
    }
   ],
   "source": [
    "dataset = NuScenesDataset(\n",
    "    nuscenes_dir=config.nuscenes_dir,\n",
    "    nuscenes_version=config.nuscenes_version,\n",
    "    label_dir=config.label_dir,\n",
    "    # sample_tokens=config.val_tokens,\n",
    "    sample_tokens=np.loadtxt(\"configs/mini_val_sample_tokens.csv\", dtype=str),\n",
    "    image_size=(200, 112),\n",
    ")\n",
    "dataset_loader = DataLoader(\n",
    "    dataset,\n",
    "    batch_size=config.batch_size,\n",
    "    num_workers=config.num_workers,\n",
    "    pin_memory=True,\n",
    "    shuffle=True,\n",
    ")"
   ]
  },
  {
   "cell_type": "code",
   "execution_count": 17,
   "metadata": {},
   "outputs": [],
   "source": [
    "image, label, mask, calib = next(iter(dataset_loader))"
   ]
  },
  {
   "cell_type": "code",
   "execution_count": 19,
   "metadata": {},
   "outputs": [
    {
     "data": {
      "text/plain": [
       "torch.Size([10, 196, 200])"
      ]
     },
     "execution_count": 19,
     "metadata": {},
     "output_type": "execute_result"
    }
   ],
   "source": [
    "mask.shape"
   ]
  },
  {
   "cell_type": "code",
   "execution_count": null,
   "metadata": {},
   "outputs": [],
   "source": []
  }
 ],
 "metadata": {
  "kernelspec": {
   "display_name": "senior_project",
   "language": "python",
   "name": "python3"
  },
  "language_info": {
   "codemirror_mode": {
    "name": "ipython",
    "version": 3
   },
   "file_extension": ".py",
   "mimetype": "text/x-python",
   "name": "python",
   "nbconvert_exporter": "python",
   "pygments_lexer": "ipython3",
   "version": "3.8.0"
  },
  "orig_nbformat": 4
 },
 "nbformat": 4,
 "nbformat_minor": 2
}
