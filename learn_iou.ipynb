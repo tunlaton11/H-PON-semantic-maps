{
 "cells": [
  {
   "attachments": {},
   "cell_type": "markdown",
   "metadata": {},
   "source": [
    "# MulticlassJaccardIndex"
   ]
  },
  {
   "attachments": {},
   "cell_type": "markdown",
   "metadata": {},
   "source": [
    "**Semantic Segmentation**\n",
    "\n",
    "**Inputs** (batch size, channels, height, width)\n",
    "\n",
    "**Preds** (batch size, classes, height, width)\n",
    "\n",
    "**Ground Truths** (batch size, height, width)"
   ]
  },
  {
   "cell_type": "code",
   "execution_count": 107,
   "metadata": {},
   "outputs": [],
   "source": [
    "import torch\n",
    "from torchmetrics.classification import MulticlassJaccardIndex"
   ]
  },
  {
   "attachments": {},
   "cell_type": "markdown",
   "metadata": {},
   "source": [
    "## For single image"
   ]
  },
  {
   "cell_type": "code",
   "execution_count": 108,
   "metadata": {},
   "outputs": [
    {
     "name": "stdout",
     "output_type": "stream",
     "text": [
      "tensor([[[0, 2],\n",
      "         [2, 1]]])\n"
     ]
    }
   ],
   "source": [
    "# labels = torch.randint(0, 3, (1,2,2))\n",
    "\n",
    "labels = torch.tensor(\n",
    "    [[[0, 2],\n",
    "      [2, 1]]]\n",
    ")\n",
    "print(labels)"
   ]
  },
  {
   "cell_type": "code",
   "execution_count": 109,
   "metadata": {},
   "outputs": [
    {
     "name": "stdout",
     "output_type": "stream",
     "text": [
      "tensor([[[[0.0751, 0.0239],\n",
      "          [0.2764, 0.3437]],\n",
      "\n",
      "         [[0.2993, 0.4008],\n",
      "          [0.3562, 0.1968]],\n",
      "\n",
      "         [[0.9602, 0.6309],\n",
      "          [0.1658, 0.0777]]]])\n"
     ]
    }
   ],
   "source": [
    "# preds = torch.rand((1,3,2,2))\n",
    "\n",
    "preds = torch.tensor(\n",
    "    [[[[0.0751, 0.0239],\n",
    "       [0.2764, 0.3437]],\n",
    "       \n",
    "      [[0.2993, 0.4008],\n",
    "       [0.3562, 0.1968]],\n",
    "\n",
    "      [[0.9602, 0.6309],\n",
    "       [0.1658, 0.0777]]]]\n",
    ")\n",
    "print(preds)"
   ]
  },
  {
   "cell_type": "code",
   "execution_count": 110,
   "metadata": {},
   "outputs": [
    {
     "data": {
      "text/plain": [
       "tensor([[[1, 1],\n",
       "         [0, 0]]], dtype=torch.int32)"
      ]
     },
     "execution_count": 110,
     "metadata": {},
     "output_type": "execute_result"
    }
   ],
   "source": [
    "(torch.argmax(preds, dim=1, keepdim=False) == 2).int()"
   ]
  },
  {
   "cell_type": "code",
   "execution_count": 111,
   "metadata": {},
   "outputs": [
    {
     "data": {
      "text/plain": [
       "tensor([[[0, 1],\n",
       "         [1, 0]]], dtype=torch.int32)"
      ]
     },
     "execution_count": 111,
     "metadata": {},
     "output_type": "execute_result"
    }
   ],
   "source": [
    "(labels == 2).int()"
   ]
  },
  {
   "cell_type": "code",
   "execution_count": 112,
   "metadata": {},
   "outputs": [
    {
     "data": {
      "text/plain": [
       "tensor(0.1429)"
      ]
     },
     "execution_count": 112,
     "metadata": {},
     "output_type": "execute_result"
    }
   ],
   "source": [
    "# micro is iou for overall class\n",
    "\n",
    "metric = MulticlassJaccardIndex(num_classes=3, average=\"micro\")\n",
    "metric(preds, labels)"
   ]
  },
  {
   "cell_type": "code",
   "execution_count": 113,
   "metadata": {},
   "outputs": [
    {
     "data": {
      "text/plain": [
       "0.14285714285714285"
      ]
     },
     "execution_count": 113,
     "metadata": {},
     "output_type": "execute_result"
    }
   ],
   "source": [
    "1/7"
   ]
  },
  {
   "cell_type": "code",
   "execution_count": 114,
   "metadata": {},
   "outputs": [
    {
     "data": {
      "text/plain": [
       "tensor([0.0000, 0.0000, 0.3333])"
      ]
     },
     "execution_count": 114,
     "metadata": {},
     "output_type": "execute_result"
    }
   ],
   "source": [
    "# none is iou for each class\n",
    "\n",
    "metric = MulticlassJaccardIndex(num_classes=3, average=\"none\")\n",
    "metric(preds, labels)"
   ]
  },
  {
   "cell_type": "code",
   "execution_count": 115,
   "metadata": {},
   "outputs": [
    {
     "data": {
      "text/plain": [
       "0.3333333333333333"
      ]
     },
     "execution_count": 115,
     "metadata": {},
     "output_type": "execute_result"
    }
   ],
   "source": [
    "1/3"
   ]
  },
  {
   "cell_type": "code",
   "execution_count": 116,
   "metadata": {},
   "outputs": [
    {
     "data": {
      "text/plain": [
       "tensor(0.1111)"
      ]
     },
     "execution_count": 116,
     "metadata": {},
     "output_type": "execute_result"
    }
   ],
   "source": [
    "# macro is average iou of all classes\n",
    "\n",
    "metric = MulticlassJaccardIndex(num_classes=3, average=\"macro\")\n",
    "metric(preds, labels)"
   ]
  },
  {
   "cell_type": "code",
   "execution_count": 117,
   "metadata": {},
   "outputs": [
    {
     "data": {
      "text/plain": [
       "0.1111111111111111"
      ]
     },
     "execution_count": 117,
     "metadata": {},
     "output_type": "execute_result"
    }
   ],
   "source": [
    "1/9"
   ]
  },
  {
   "attachments": {},
   "cell_type": "markdown",
   "metadata": {},
   "source": [
    "## For batch"
   ]
  },
  {
   "cell_type": "code",
   "execution_count": 118,
   "metadata": {},
   "outputs": [],
   "source": [
    "batch = 2\n",
    "classes = 3"
   ]
  },
  {
   "cell_type": "code",
   "execution_count": 119,
   "metadata": {},
   "outputs": [
    {
     "name": "stdout",
     "output_type": "stream",
     "text": [
      "tensor([[[0, 1],\n",
      "         [1, 2]],\n",
      "\n",
      "        [[0, 1],\n",
      "         [2, 2]]])\n"
     ]
    }
   ],
   "source": [
    "# targets = torch.randint(0, 3, (batch,2,2))\n",
    "\n",
    "labels = torch.tensor(\n",
    "    [[[0, 1],\n",
    "      [1, 2]],\n",
    "\n",
    "     [[0, 1],\n",
    "      [2, 2]]]\n",
    ")\n",
    "print(labels)"
   ]
  },
  {
   "cell_type": "code",
   "execution_count": 120,
   "metadata": {},
   "outputs": [
    {
     "name": "stdout",
     "output_type": "stream",
     "text": [
      "tensor([[[[0.1552, 0.0311],\n",
      "          [0.2162, 0.9957]],\n",
      "\n",
      "         [[0.0857, 0.8358],\n",
      "          [0.3440, 0.7529]],\n",
      "\n",
      "         [[0.6019, 0.6657],\n",
      "          [0.6416, 0.6647]]],\n",
      "\n",
      "\n",
      "        [[[0.3775, 0.0812],\n",
      "          [0.6923, 0.8075]],\n",
      "\n",
      "         [[0.2147, 0.0133],\n",
      "          [0.2500, 0.9218]],\n",
      "\n",
      "         [[0.9361, 0.2890],\n",
      "          [0.8075, 0.6322]]]])\n"
     ]
    }
   ],
   "source": [
    "# preds = torch.rand((batch,classes,2,2))\n",
    "\n",
    "preds = torch.tensor(\n",
    "    [[[[0.1552, 0.0311],\n",
    "       [0.2162, 0.9957]],\n",
    "\n",
    "      [[0.0857, 0.8358],\n",
    "       [0.3440, 0.7529]],\n",
    "\n",
    "      [[0.6019, 0.6657],\n",
    "       [0.6416, 0.6647]]],\n",
    "\n",
    "\n",
    "     [[[0.3775, 0.0812],\n",
    "       [0.6923, 0.8075]],\n",
    "\n",
    "      [[0.2147, 0.0133],\n",
    "       [0.2500, 0.9218]],\n",
    "\n",
    "      [[0.9361, 0.2890],\n",
    "       [0.8075, 0.6322]]]]\n",
    ")\n",
    "print(preds)"
   ]
  },
  {
   "cell_type": "code",
   "execution_count": 121,
   "metadata": {},
   "outputs": [
    {
     "data": {
      "text/plain": [
       "tensor([[[2, 1],\n",
       "         [2, 0]],\n",
       "\n",
       "        [[2, 2],\n",
       "         [2, 1]]])"
      ]
     },
     "execution_count": 121,
     "metadata": {},
     "output_type": "execute_result"
    }
   ],
   "source": [
    "torch.argmax(preds, dim=1, keepdim=False)"
   ]
  },
  {
   "cell_type": "code",
   "execution_count": 122,
   "metadata": {},
   "outputs": [
    {
     "data": {
      "text/plain": [
       "tensor([0.0000, 0.2500, 0.1429])"
      ]
     },
     "execution_count": 122,
     "metadata": {},
     "output_type": "execute_result"
    }
   ],
   "source": [
    "metric = MulticlassJaccardIndex(num_classes=3, average=\"none\")\n",
    "metric(preds, labels)"
   ]
  },
  {
   "cell_type": "code",
   "execution_count": 123,
   "metadata": {},
   "outputs": [
    {
     "data": {
      "text/plain": [
       "tensor(0.1429)"
      ]
     },
     "execution_count": 123,
     "metadata": {},
     "output_type": "execute_result"
    }
   ],
   "source": [
    "metric = MulticlassJaccardIndex(num_classes=3, average=\"micro\")\n",
    "metric(preds, labels)"
   ]
  },
  {
   "cell_type": "code",
   "execution_count": 124,
   "metadata": {},
   "outputs": [
    {
     "data": {
      "text/plain": [
       "tensor(0.1310)"
      ]
     },
     "execution_count": 124,
     "metadata": {},
     "output_type": "execute_result"
    }
   ],
   "source": [
    "metric = MulticlassJaccardIndex(num_classes=3, average=\"macro\")\n",
    "metric(preds, labels)"
   ]
  },
  {
   "cell_type": "code",
   "execution_count": 125,
   "metadata": {},
   "outputs": [
    {
     "data": {
      "text/plain": [
       "tensor(0.1310)"
      ]
     },
     "execution_count": 125,
     "metadata": {},
     "output_type": "execute_result"
    }
   ],
   "source": [
    "torch.tensor([0.0000, 0.2500, 0.1429]).mean()"
   ]
  },
  {
   "cell_type": "code",
   "execution_count": 126,
   "metadata": {},
   "outputs": [
    {
     "data": {
      "text/plain": [
       "torch.Size([2, 3, 2, 2])"
      ]
     },
     "execution_count": 126,
     "metadata": {},
     "output_type": "execute_result"
    }
   ],
   "source": [
    "preds.shape"
   ]
  },
  {
   "attachments": {},
   "cell_type": "markdown",
   "metadata": {},
   "source": [
    "# MultilabelJaccardIndex"
   ]
  },
  {
   "attachments": {},
   "cell_type": "markdown",
   "metadata": {},
   "source": [
    "**Semantic Segmentation**\n",
    "\n",
    "**Inputs** (batch size, channels, height, width)\n",
    "\n",
    "**Preds** (batch size, classes, height, width)\n",
    "\n",
    "**Ground Truths** (batch size, classes, height, width)"
   ]
  },
  {
   "cell_type": "code",
   "execution_count": 127,
   "metadata": {},
   "outputs": [],
   "source": [
    "import torch\n",
    "from torchmetrics.classification import MultilabelJaccardIndex"
   ]
  },
  {
   "cell_type": "code",
   "execution_count": 128,
   "metadata": {},
   "outputs": [
    {
     "name": "stdout",
     "output_type": "stream",
     "text": [
      "tensor([[[[0, 0],\n",
      "          [1, 0]],\n",
      "\n",
      "         [[1, 0],\n",
      "          [1, 1]],\n",
      "\n",
      "         [[1, 1],\n",
      "          [1, 1]]]])\n"
     ]
    }
   ],
   "source": [
    "# labels = torch.randint(0, 2, (1,3,2,2))\n",
    "\n",
    "labels = torch.tensor(\n",
    "    [[[[0, 0],\n",
    "       [1, 0]],\n",
    "\n",
    "      [[1, 0],\n",
    "       [1, 1]],\n",
    "\n",
    "      [[1, 1],\n",
    "       [1, 1]]]]\n",
    ")\n",
    "print(labels)"
   ]
  },
  {
   "cell_type": "code",
   "execution_count": 129,
   "metadata": {},
   "outputs": [
    {
     "name": "stdout",
     "output_type": "stream",
     "text": [
      "tensor([[[[0.9709, 0.4751],\n",
      "          [0.6475, 0.9009]],\n",
      "\n",
      "         [[0.7615, 0.1242],\n",
      "          [0.0036, 0.6726]],\n",
      "\n",
      "         [[0.0765, 0.1898],\n",
      "          [0.2989, 0.2798]]]])\n"
     ]
    }
   ],
   "source": [
    "# preds = torch.rand((1,3,2,2))\n",
    "\n",
    "preds = torch.tensor(\n",
    "    [[[[0.9709, 0.4751],\n",
    "       [0.6475, 0.9009]],\n",
    "\n",
    "      [[0.7615, 0.1242],\n",
    "       [0.0036, 0.6726]],\n",
    "\n",
    "      [[0.0765, 0.1898],\n",
    "       [0.2989, 0.2798]]]]\n",
    ")\n",
    "print(preds)"
   ]
  },
  {
   "cell_type": "code",
   "execution_count": 138,
   "metadata": {},
   "outputs": [
    {
     "name": "stdout",
     "output_type": "stream",
     "text": [
      "tensor([[[[0, 0],\n",
      "          [1, 0]],\n",
      "\n",
      "         [[1, 0],\n",
      "          [1, 1]],\n",
      "\n",
      "         [[1, 1],\n",
      "          [1, 1]]]])\n",
      "tensor([[[[1, 0],\n",
      "          [1, 1]],\n",
      "\n",
      "         [[1, 0],\n",
      "          [0, 1]],\n",
      "\n",
      "         [[0, 0],\n",
      "          [0, 0]]]], dtype=torch.int32)\n"
     ]
    }
   ],
   "source": [
    "print(labels)\n",
    "print((preds >= 0.5).int())"
   ]
  },
  {
   "cell_type": "code",
   "execution_count": 131,
   "metadata": {},
   "outputs": [
    {
     "data": {
      "text/plain": [
       "tensor([0.3333, 0.6667, 0.0000])"
      ]
     },
     "execution_count": 131,
     "metadata": {},
     "output_type": "execute_result"
    }
   ],
   "source": [
    "metric = MultilabelJaccardIndex(num_labels=3, average=\"none\")\n",
    "metric(preds, labels)"
   ]
  },
  {
   "cell_type": "code",
   "execution_count": 132,
   "metadata": {},
   "outputs": [
    {
     "data": {
      "text/plain": [
       "tensor(0.3000)"
      ]
     },
     "execution_count": 132,
     "metadata": {},
     "output_type": "execute_result"
    }
   ],
   "source": [
    "metric = MultilabelJaccardIndex(num_labels=3, average=\"micro\")\n",
    "metric(preds, labels)"
   ]
  },
  {
   "cell_type": "code",
   "execution_count": 133,
   "metadata": {},
   "outputs": [
    {
     "data": {
      "text/plain": [
       "tensor(0.3333)"
      ]
     },
     "execution_count": 133,
     "metadata": {},
     "output_type": "execute_result"
    }
   ],
   "source": [
    "metric = MultilabelJaccardIndex(num_labels=3, average=\"macro\")\n",
    "metric(preds, labels)"
   ]
  },
  {
   "cell_type": "code",
   "execution_count": 139,
   "metadata": {},
   "outputs": [
    {
     "data": {
      "text/plain": [
       "tensor(0.3333)"
      ]
     },
     "execution_count": 139,
     "metadata": {},
     "output_type": "execute_result"
    }
   ],
   "source": [
    "torch.tensor([0.3333, 0.6667, 0.0000]).mean()"
   ]
  }
 ],
 "metadata": {
  "kernelspec": {
   "display_name": "base",
   "language": "python",
   "name": "python3"
  },
  "language_info": {
   "codemirror_mode": {
    "name": "ipython",
    "version": 3
   },
   "file_extension": ".py",
   "mimetype": "text/x-python",
   "name": "python",
   "nbconvert_exporter": "python",
   "pygments_lexer": "ipython3",
   "version": "3.10.9"
  },
  "orig_nbformat": 4
 },
 "nbformat": 4,
 "nbformat_minor": 2
}
