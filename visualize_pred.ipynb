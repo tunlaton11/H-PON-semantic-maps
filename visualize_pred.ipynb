{
 "cells": [
  {
   "cell_type": "code",
   "execution_count": 3,
   "metadata": {},
   "outputs": [],
   "source": [
    "import matplotlib.pyplot as plt\n",
    "from PIL import Image\n",
    "import os\n",
    "from tqdm import tqdm"
   ]
  },
  {
   "cell_type": "code",
   "execution_count": 6,
   "metadata": {},
   "outputs": [
    {
     "name": "stderr",
     "output_type": "stream",
     "text": [
      "100%|██████████| 122/122 [00:23<00:00,  5.29it/s]\n"
     ]
    }
   ],
   "source": [
    "os.makedirs(\"pred_img/compare_final_w_mask\", exist_ok=True)\n",
    "\n",
    "for i in tqdm(range(122)):\n",
    "    img_name = str(i)\n",
    "\n",
    "    img = Image.open(f\"pred_img/final_10_scene_by_image/img_{img_name}/img_{img_name}.png\")\n",
    "    gt = Image.open(f\"pred_img/final_10_scene_by_image/img_{img_name}/img_{img_name}_gt.png\")\n",
    "    gt_mask = Image.open(f\"pred_img/final_10_scene_by_image/img_{img_name}/img_{img_name}_gt_w_mask.png\")\n",
    "    pred_pon = Image.open(f\"pred_img/final_10_scene_by_image/img_{img_name}/img_{img_name}_Full_PON_1693460068.9404485.png\")\n",
    "    pred_pon_mask = Image.open(f\"pred_img/final_10_scene_by_image/img_{img_name}/img_{img_name}_Full_PON_1693460068.9404485_w_mask.png\")\n",
    "    pred_epon = Image.open(f\"pred_img/final_10_scene_by_image/img_{img_name}/img_{img_name}_Full_EPON_H-stack_1693466315.8951316.png\")\n",
    "    pred_epon_mask = Image.open(f\"pred_img/final_10_scene_by_image/img_{img_name}/img_{img_name}_Full_EPON_H-stack_1693466315.8951316_w_mask.png\")\n",
    "\n",
    "\n",
    "    fig, axes = plt.subplots(2, 4, figsize=(20, 6))\n",
    "    axes[0,0].imshow(img)\n",
    "    axes[0,0].set_title(f\"Image {img_name}\")\n",
    "\n",
    "    axes[0,1].imshow(gt)\n",
    "    axes[1,1].imshow(gt_mask)\n",
    "    axes[0,1].set_title(\"GT\")\n",
    "\n",
    "    axes[0,2].imshow(pred_pon)\n",
    "    axes[1,2].imshow(pred_pon_mask)\n",
    "    axes[0,2].set_title(\"Pred PON\")\n",
    "\n",
    "    axes[0,3].imshow(pred_epon)\n",
    "    axes[1,3].imshow(pred_epon_mask)\n",
    "    axes[0,3].set_title(\"Pred H-PON\")\n",
    "\n",
    "    for ax in axes.ravel():\n",
    "        ax.set_axis_off()\n",
    "    \n",
    "    fig.savefig(f\"pred_img/compare_final_w_mask/img_{img_name}_compare.png\")\n",
    "    plt.close()"
   ]
  },
  {
   "cell_type": "code",
   "execution_count": null,
   "metadata": {},
   "outputs": [],
   "source": []
  }
 ],
 "metadata": {
  "kernelspec": {
   "display_name": "senior_project",
   "language": "python",
   "name": "python3"
  },
  "language_info": {
   "codemirror_mode": {
    "name": "ipython",
    "version": 3
   },
   "file_extension": ".py",
   "mimetype": "text/x-python",
   "name": "python",
   "nbconvert_exporter": "python",
   "pygments_lexer": "ipython3",
   "version": "3.8.0"
  },
  "orig_nbformat": 4
 },
 "nbformat": 4,
 "nbformat_minor": 2
}
